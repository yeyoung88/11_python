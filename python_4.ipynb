{
 "cells": [
  {
   "cell_type": "markdown",
   "id": "0260b562",
   "metadata": {},
   "source": [
    "안녕하세요. 수강생 여러분~! Chapter14 ~ 16 수업은 잘 들으셨나요?\n",
    "\n",
    "Chapter14 ~ 16의 수업 내용을 바탕으로 아래 문제를 풀어주시면 됩니다.\n",
    "\n",
    "[**답변 입력 방법**] 문제 아래 코드 셀에 정답 코드를 작성하신 후 __▷ 버튼을 클릭해 실행__ 해보세요."
   ]
  },
  {
   "cell_type": "markdown",
   "id": "a04b0232",
   "metadata": {},
   "source": [
    "__[문제1]__\n",
    "\n",
    "주어진 정수 x와 자연수 n을 이용해, x부터 시작해 x씩 증가하는 숫자를 n개 지니는 리스트를 출력해주세요\n",
    "\n",
    "x = 2, n = 5"
   ]
  },
  {
   "cell_type": "code",
   "execution_count": null,
   "id": "29726d9d",
   "metadata": {},
   "outputs": [],
   "source": [
    "x = 2\n",
    "n = 5\n",
    "result = [x * i for i in range(1, n+1)]\n",
    "print(result)"
   ]
  },
  {
   "cell_type": "markdown",
   "id": "377819a2",
   "metadata": {},
   "source": [
    "__[문제2]__\n",
    "\n",
    "전화번호 문자열 `phone_number`가 주어졌을 때, 뒷 4자리를 `*`로 가려주세요\n",
    "\n",
    "phone_number = \"01012347890\"\n",
    "\n",
    "출력 예: `0101234****`"
   ]
  },
  {
   "cell_type": "code",
   "execution_count": null,
   "id": "099cc655",
   "metadata": {},
   "outputs": [],
   "source": [
    "phone_number = \"01012347890\"\n",
    "result = phone_number[:-4] + \"****\"\n",
    "print(result)"
   ]
  },
  {
   "cell_type": "markdown",
   "id": "f7490147",
   "metadata": {},
   "source": [
    "__[문제3]__\n",
    "\n",
    "숫자의 일부 자릿수가 영단어로 바뀐 문자열 `s`가 주어졌을 때, 원래 숫자를 출력해주세요.\n",
    "\n",
    "예: `s = \"77three4one\"` → 출력: `77341`"
   ]
  },
  {
   "cell_type": "code",
   "execution_count": null,
   "id": "4fa37590",
   "metadata": {},
   "outputs": [],
   "source": [
    "s = \"77three4one\"\n",
    "num_words = {\"zero\":\"0\", \"one\":\"1\", \"two\":\"2\", \"three\":\"3\", \"four\":\"4\", \"five\":\"5\", \"six\":\"6\", \"seven\":\"7\", \"eight\":\"8\", \"nine\":\"9\"}\n",
    "for word, digit in num_words.items():\n",
    "    s = s.replace(word, digit)\n",
    "print(int(s))"
   ]
  },
  {
   "cell_type": "markdown",
   "id": "9329647a",
   "metadata": {},
   "source": [
    "__[문제4]__\n",
    "\n",
    "행렬 arr1과 arr2가 주어졌을 때, 같은 위치의 값을 더한 결과를 출력해주세요.\n",
    "\n",
    "arr1 = [[1,2],[2,3]]\n",
    "arr2 = [[3,4],[5,6]]\n",
    "출력: [[4,6],[7,9]]"
   ]
  },
  {
   "cell_type": "code",
   "execution_count": null,
   "id": "962c4b68",
   "metadata": {},
   "outputs": [],
   "source": [
    "arr1 = [[1,2],[2,3]]\n",
    "arr2 = [[3,4],[5,6]]\n",
    "result = [[arr1[i][j] + arr2[i][j] for j in range(len(arr1[0]))] for i in range(len(arr1))]\n",
    "print(result)"
   ]
  },
  {
   "cell_type": "markdown",
   "id": "0c3911e5",
   "metadata": {},
   "source": [
    "__[문제5]__\n",
    "\n",
    "자릿수 합으로 나누어떨어지는 수를 하샤드 수라고 합니다. 주어진 수가 하샤드 수인지 판별해주세요.\n",
    "\n",
    "x = 17"
   ]
  },
  {
   "cell_type": "code",
   "execution_count": null,
   "id": "7a2ebeb9",
   "metadata": {},
   "outputs": [],
   "source": [
    "x = 17\n",
    "digits_sum = sum(int(d) for d in str(x))\n",
    "print(x % digits_sum == 0)"
   ]
  },
  {
   "cell_type": "markdown",
   "id": "e68771a3",
   "metadata": {},
   "source": [
    "__[문제6]__\n",
    "\n",
    "리스트 `seoul`에서 \"Kim\"이 있는 위치를 찾아 출력해주세요. (예: 김서방은 1에 있다)\n",
    "\n",
    "seoul = [\"Jane\", \"Kim\"]"
   ]
  },
  {
   "cell_type": "code",
   "execution_count": null,
   "id": "f4c83769",
   "metadata": {},
   "outputs": [],
   "source": [
    "seoul = [\"Jane\", \"Kim\"]\n",
    "x = seoul.index(\"Kim\")\n",
    "print(f\"김서방은 {x}에 있다\")"
   ]
  },
  {
   "cell_type": "markdown",
   "id": "b8f917a8",
   "metadata": {},
   "source": [
    "__[문제7]__\n",
    "\n",
    "리스트 `numbers`에 없는 0~9까지 숫자의 합을 구해주세요.\n",
    "\n",
    "numbers = [5,8,1,0,6,9]"
   ]
  },
  {
   "cell_type": "code",
   "execution_count": null,
   "id": "2a4a8c09",
   "metadata": {},
   "outputs": [],
   "source": [
    "numbers = [5,8,1,0,6,9]\n",
    "missing_sum = sum(set(range(10)) - set(numbers))\n",
    "print(missing_sum)"
   ]
  }
 ],
 "metadata": {},
 "nbformat": 4,
 "nbformat_minor": 5
}
