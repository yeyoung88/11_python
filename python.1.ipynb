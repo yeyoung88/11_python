{
 "cells": [
  {
   "cell_type": "markdown",
   "id": "47a5e205",
   "metadata": {},
   "source": [
    "## Chapter_04 python 심화 문제 (답안)"
   ]
  },
  {
   "cell_type": "markdown",
   "id": "404e3c2b",
   "metadata": {},
   "source": [
    "### 문제 0\n",
    "한 변의 길이가 5인 정사각형이 있습니다. 정사각형의 넓이를 구하세요."
   ]
  },
  {
   "cell_type": "code",
   "execution_count": null,
   "id": "93671cf1",
   "metadata": {},
   "outputs": [],
   "source": [
    "length = 5\n",
    "area = length ** 2\n",
    "print(area)  # 25"
   ]
  },
  {
   "cell_type": "markdown",
   "id": "710a27f3",
   "metadata": {},
   "source": [
    "### 문제 1\n",
    "다음 5명 점수의 평균을 구하세요: 65, 75, 50, 80, 60"
   ]
  },
  {
   "cell_type": "code",
   "execution_count": null,
   "id": "2795cb71",
   "metadata": {},
   "outputs": [],
   "source": [
    "score = 65 + 75 + 50 + 80 + 60\n",
    "average = score / 5\n",
    "print(average)  # 66.0"
   ]
  },
  {
   "cell_type": "markdown",
   "id": "24b521a4",
   "metadata": {},
   "source": [
    "### 문제 2\n",
    "키 180cm, 몸무게 92kg의 BMI 지수를 구하세요. (BMI = 몸무게 / 키(m)^2)"
   ]
  },
  {
   "cell_type": "code",
   "execution_count": null,
   "id": "0df1e965",
   "metadata": {},
   "outputs": [],
   "source": [
    "weight = 92\n",
    "height = 1.8\n",
    "bmi = weight / (height ** 2)\n",
    "print(bmi)"
   ]
  },
  {
   "cell_type": "markdown",
   "id": "dda76db5",
   "metadata": {},
   "source": [
    "### 문제 3\n",
    "밑변 9cm, 높이 13cm인 직각삼각형의 빗변의 길이를 구하세요."
   ]
  },
  {
   "cell_type": "code",
   "execution_count": null,
   "id": "ed81051a",
   "metadata": {},
   "outputs": [],
   "source": [
    "base = 9\n",
    "height = 13\n",
    "hypotenuse = ((base ** 2) + (height ** 2)) ** 0.5\n",
    "print(hypotenuse)"
   ]
  },
  {
   "cell_type": "markdown",
   "id": "b3ae241c",
   "metadata": {},
   "source": [
    "### 문제 4\n",
    "2500만원, 연이율 6.15%, 기간 3년의 이자 계산"
   ]
  },
  {
   "cell_type": "code",
   "execution_count": null,
   "id": "a929be07",
   "metadata": {},
   "outputs": [],
   "source": [
    "principal = 25000000\n",
    "interest_rate = 0.0615\n",
    "years = 3\n",
    "interest = principal * interest_rate * years\n",
    "print(interest)"
   ]
  },
  {
   "cell_type": "markdown",
   "id": "d7459f54",
   "metadata": {},
   "source": [
    "### 문제 5\n",
    "두 숫자 14와 29를 더해 돌문을 여세요."
   ]
  },
  {
   "cell_type": "code",
   "execution_count": null,
   "id": "1e695e09",
   "metadata": {},
   "outputs": [],
   "source": [
    "key1 = 14\n",
    "key2 = 29\n",
    "result1 = key1 + key2\n",
    "print(result1)"
   ]
  },
  {
   "cell_type": "markdown",
   "id": "6a7157e1",
   "metadata": {},
   "source": [
    "### 문제 6\n",
    "몸무게 68kg에서 제한 50kg까지 줄이려면 몇 kg 줄여야 하나요?"
   ]
  },
  {
   "cell_type": "code",
   "execution_count": null,
   "id": "86523e3f",
   "metadata": {},
   "outputs": [],
   "source": [
    "current_weight = 68\n",
    "limit = 50\n",
    "weight_to_lose = current_weight - limit\n",
    "print(weight_to_lose)"
   ]
  },
  {
   "cell_type": "markdown",
   "id": "82ca7636",
   "metadata": {},
   "source": [
    "### 문제 7\n",
    "고목나무의 나이를 구하세요 (4년에 1개씩 나이테가 생긴다)."
   ]
  },
  {
   "cell_type": "code",
   "execution_count": null,
   "id": "b104acb4",
   "metadata": {},
   "outputs": [],
   "source": [
    "rings = result1\n",
    "years_per_ring = 4\n",
    "age = rings * years_per_ring\n",
    "print(age)"
   ]
  },
  {
   "cell_type": "markdown",
   "id": "90b8abff",
   "metadata": {},
   "source": [
    "### 문제 8\n",
    "나무의 나이 172살일 때 연못의 깊이를 구하세요. (깊이 = 나이 / 4)"
   ]
  },
  {
   "cell_type": "code",
   "execution_count": null,
   "id": "7e9d2454",
   "metadata": {},
   "outputs": [],
   "source": [
    "age = 172\n",
    "pond_depth = age / 4\n",
    "print(pond_depth)"
   ]
  },
  {
   "cell_type": "markdown",
   "id": "40c269dc",
   "metadata": {},
   "source": [
    "### 문제 9\n",
    "돌문 숫자의 제곱근"
   ]
  },
  {
   "cell_type": "code",
   "execution_count": null,
   "id": "bdab7c98",
   "metadata": {},
   "outputs": [],
   "source": [
    "code = result1 ** 0.5\n",
    "print(int(code))"
   ]
  },
  {
   "cell_type": "markdown",
   "id": "0cac230c",
   "metadata": {},
   "source": [
    "### 문제 10\n",
    "5분간 20번 파도가 왔다면 평균 간격은?"
   ]
  },
  {
   "cell_type": "code",
   "execution_count": null,
   "id": "efc19bba",
   "metadata": {},
   "outputs": [],
   "source": [
    "minutes = 5\n",
    "waves = 20\n",
    "seconds_per_minute = 60\n",
    "total_seconds = minutes * seconds_per_minute\n",
    "average_time = total_seconds // waves\n",
    "print(average_time)"
   ]
  },
  {
   "cell_type": "markdown",
   "id": "b1e3d157",
   "metadata": {},
   "source": [
    "### 문제 11\n",
    "2초 동안 떨어졌다면 폭포의 높이는?"
   ]
  },
  {
   "cell_type": "code",
   "execution_count": null,
   "id": "b39deecc",
   "metadata": {},
   "outputs": [],
   "source": [
    "gravity = 9.8\n",
    "time = 2 + 3\n",
    "height = 0.5 * gravity * time ** 2\n",
    "print(height)"
   ]
  },
  {
   "cell_type": "markdown",
   "id": "f56efd68",
   "metadata": {},
   "source": [
    "### 최종 문제\n",
    "좌표: 32, 43, 128 → 비밀번호는 세 번째 - 첫 번째"
   ]
  },
  {
   "cell_type": "code",
   "execution_count": null,
   "id": "7f66e2e4",
   "metadata": {},
   "outputs": [],
   "source": [
    "first_num = 32\n",
    "third_num = 128\n",
    "password = third_num - first_num\n",
    "print(password)"
   ]
  }
 ],
 "metadata": {},
 "nbformat": 4,
 "nbformat_minor": 5
}
