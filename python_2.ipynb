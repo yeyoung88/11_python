{
 "cells": [
  {
   "cell_type": "markdown",
   "id": "ace886c2",
   "metadata": {},
   "source": [
    "## 문제 0"
   ]
  },
  {
   "cell_type": "code",
   "execution_count": null,
   "id": "f9f2f044",
   "metadata": {},
   "outputs": [],
   "source": [
    "score1 = int(input('첫 번째 점수: '))\n",
    "score2 = int(input('두 번째 점수: '))\n",
    "score3 = int(input('세 번째 점수: '))\n",
    "total = score1 + score2 + score3\n",
    "print('합계:', total)"
   ]
  },
  {
   "cell_type": "markdown",
   "id": "c43916c4",
   "metadata": {},
   "source": [
    "## 문제 1"
   ]
  },
  {
   "cell_type": "code",
   "execution_count": null,
   "id": "6fdf5368",
   "metadata": {},
   "outputs": [],
   "source": [
    "movie = ['서울의 봄', '나폴레옹', '괴물', '베트맨']\n",
    "movie.insert(2, '비밀')\n",
    "print(movie)"
   ]
  },
  {
   "cell_type": "markdown",
   "id": "ddc0142e",
   "metadata": {},
   "source": [
    "## 문제 2"
   ]
  },
  {
   "cell_type": "code",
   "execution_count": null,
   "id": "a8335b08",
   "metadata": {},
   "outputs": [],
   "source": [
    "movie = ['서울의 봄', '나폴레옹', '비밀', '괴물', '베트맨']\n",
    "movie.remove('베트맨')\n",
    "print(movie)"
   ]
  },
  {
   "cell_type": "markdown",
   "id": "b577de64",
   "metadata": {},
   "source": [
    "## 문제 3"
   ]
  },
  {
   "cell_type": "code",
   "execution_count": null,
   "id": "0cb1453a",
   "metadata": {},
   "outputs": [],
   "source": [
    "lang1 = [\"C\", \"C++\", \"JAVA\"]\n",
    "lang2 = [\"파이썬\", \"고\", \"C#\"]\n",
    "langs = lang1 + lang2\n",
    "print(langs)"
   ]
  },
  {
   "cell_type": "markdown",
   "id": "40556546",
   "metadata": {},
   "source": [
    "## 문제 4"
   ]
  },
  {
   "cell_type": "code",
   "execution_count": null,
   "id": "3d9d8521",
   "metadata": {},
   "outputs": [],
   "source": [
    "nums = [1, 2, 3, 4, 5, 6, 7, 9, 10]\n",
    "print('최댓값:', max(nums))\n",
    "print('최솟값:', min(nums))\n",
    "print('평균:', sum(nums)/len(nums))"
   ]
  },
  {
   "cell_type": "markdown",
   "id": "1298d83e",
   "metadata": {},
   "source": [
    "## 문제 5"
   ]
  },
  {
   "cell_type": "code",
   "execution_count": null,
   "id": "9471aad3",
   "metadata": {},
   "outputs": [],
   "source": [
    "cook = [\"피자\", \"김밥\", \"만두\", \"양념치킨\", \"족발\", \"피자\", \"김치만두\", \"쫄면\"]\n",
    "print('총 메뉴 수:', len(cook))"
   ]
  },
  {
   "cell_type": "markdown",
   "id": "aef3518a",
   "metadata": {},
   "source": [
    "## 문제 6"
   ]
  },
  {
   "cell_type": "code",
   "execution_count": null,
   "id": "b438fcc6",
   "metadata": {},
   "outputs": [],
   "source": [
    "가격 = ['20180728', 100, 130, 140, 150, 160, 170]\n",
    "print(가격[1:])"
   ]
  },
  {
   "cell_type": "markdown",
   "id": "71b3aa1a",
   "metadata": {},
   "source": [
    "## 문제 7"
   ]
  },
  {
   "cell_type": "code",
   "execution_count": null,
   "id": "7d28b713",
   "metadata": {},
   "outputs": [],
   "source": [
    "ice = {'메로나': 1000, '폴로포': 1200, '빵빠레': 1800, '죠스바': 1200, '월드콘': 1500}\n",
    "print('메로나 가격:', ice['메로나'])"
   ]
  },
  {
   "cell_type": "markdown",
   "id": "a47cd04e",
   "metadata": {},
   "source": [
    "## 문제 8"
   ]
  },
  {
   "cell_type": "code",
   "execution_count": null,
   "id": "cadfc60d",
   "metadata": {},
   "outputs": [],
   "source": [
    "ice = {'메로나': 1000, '폴로포': 1200, '빵빠레': 1800, '죠스바': 1200, '월드콘': 1500}\n",
    "ice['메로나'] = 1300\n",
    "print('수정된 메로나 가격:', ice['메로나'])"
   ]
  },
  {
   "cell_type": "markdown",
   "id": "b3e928a6",
   "metadata": {},
   "source": [
    "## 문제 9"
   ]
  },
  {
   "cell_type": "code",
   "execution_count": null,
   "id": "1d17e0dd",
   "metadata": {},
   "outputs": [],
   "source": [
    "이름 = ['나이썬', '김자바', '김씨', '박씨샵']\n",
    "등급 = ['B', 'B', 'A', 'C']\n",
    "result = dict(zip(이름, 등급))\n",
    "print(result)"
   ]
  },
  {
   "cell_type": "markdown",
   "id": "b8bcc193",
   "metadata": {},
   "source": [
    "## 문제 10"
   ]
  },
  {
   "cell_type": "code",
   "execution_count": null,
   "id": "3f84a6e1",
   "metadata": {},
   "outputs": [],
   "source": [
    "ice = {\"메로나\": [300, 20], \"비비빅\": [400, 3], \"죠스바\": [250, 100]}\n",
    "ice['보석바'] = [650, 10]\n",
    "print(ice)"
   ]
  },
  {
   "cell_type": "markdown",
   "id": "fd9e474e",
   "metadata": {},
   "source": [
    "## 문제 11"
   ]
  },
  {
   "cell_type": "code",
   "execution_count": null,
   "id": "ea327280",
   "metadata": {},
   "outputs": [],
   "source": [
    "ice = {'메로나': 1000, '폴로포': 1200, '빵빠레': 1800, '죠스바': 1200, '월드콘': 1500}\n",
    "print(list(ice.keys()))"
   ]
  }
 ],
 "metadata": {},
 "nbformat": 4,
 "nbformat_minor": 5
}
