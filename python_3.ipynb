{
 "cells": [
  {
   "cell_type": "markdown",
   "id": "e0580735",
   "metadata": {},
   "source": [
    "### 문제 0\n",
    "\n",
    "세 명의 점수를 입력받고 총합을 출력하세요."
   ]
  },
  {
   "cell_type": "code",
   "execution_count": null,
   "id": "b31d0263",
   "metadata": {},
   "outputs": [],
   "source": [
    "score1 = int(input(\"첫 번째 점수: \"))\n",
    "score2 = int(input(\"두 번째 점수: \"))\n",
    "score3 = int(input(\"세 번째 점수: \"))\n",
    "total = score1 + score2 + score3\n",
    "print(\"총합:\", total)"
   ]
  },
  {
   "cell_type": "markdown",
   "id": "eb9c04b0",
   "metadata": {},
   "source": [
    "### 문제 1\n",
    "\n",
    "movie 리스트에서 '비밀'을 '나폴레옹'과 '괴물' 사이에 추가하세요."
   ]
  },
  {
   "cell_type": "code",
   "execution_count": null,
   "id": "10a9d259",
   "metadata": {},
   "outputs": [],
   "source": [
    "movie = ['서울의 봄', '나폴레옹', '괴물', '베트맨']\n",
    "movie.insert(2, '비밀')\n",
    "print(movie)"
   ]
  },
  {
   "cell_type": "markdown",
   "id": "81ebdd06",
   "metadata": {},
   "source": [
    "### 문제 1-2\n",
    "\n",
    "movie 리스트에서 '베트맨'을 삭제하세요."
   ]
  },
  {
   "cell_type": "code",
   "execution_count": null,
   "id": "229905cd",
   "metadata": {},
   "outputs": [],
   "source": [
    "movie = ['서울의 봄', '나폴레옹', '비밀', '괴물', '베트맨']\n",
    "movie.remove('베트맨')\n",
    "print(movie)"
   ]
  },
  {
   "cell_type": "markdown",
   "id": "c294612f",
   "metadata": {},
   "source": [
    "### 문제 2\n",
    "\n",
    "두 개의 언어 리스트를 합쳐 하나의 리스트로 만드세요."
   ]
  },
  {
   "cell_type": "code",
   "execution_count": null,
   "id": "15e5c532",
   "metadata": {},
   "outputs": [],
   "source": [
    "lang1 = [\"C\", \"C++\", \"JAVA\"]\n",
    "lang2 = [\"파이썬\", \"고\", \"C#\"]\n",
    "langs = lang1 + lang2\n",
    "print(langs)"
   ]
  },
  {
   "cell_type": "markdown",
   "id": "7082c46c",
   "metadata": {},
   "source": [
    "### 문제 3\n",
    "\n",
    "리스트 숫자에서 최댓값, 최솟값, 평균을 출력하세요."
   ]
  },
  {
   "cell_type": "code",
   "execution_count": null,
   "id": "d9fda761",
   "metadata": {},
   "outputs": [],
   "source": [
    "numbers = [1, 2, 3, 4, 5, 6, 7, 9, 10]\n",
    "print(\"최댓값:\", max(numbers))\n",
    "print(\"최솟값:\", min(numbers))\n",
    "print(\"평균:\", sum(numbers) / len(numbers))"
   ]
  },
  {
   "cell_type": "markdown",
   "id": "8371b615",
   "metadata": {},
   "source": [
    "### 문제 4\n",
    "\n",
    "리스트의 요소가 각각 몇 번 등장했는지 세어 출력하세요."
   ]
  },
  {
   "cell_type": "code",
   "execution_count": null,
   "id": "42de63ec",
   "metadata": {},
   "outputs": [],
   "source": [
    "cook = [\"피자\", \"김밥\", \"만두\", \"양념치킨\", \"족발\", \"피자\", \"김치만두\", \"쫄면\"]\n",
    "from collections import Counter\n",
    "print(Counter(cook))"
   ]
  },
  {
   "cell_type": "markdown",
   "id": "60816a69",
   "metadata": {},
   "source": [
    "### 문제 5\n",
    "\n",
    "날짜가 포함된 리스트에서 가격만 출력하세요."
   ]
  },
  {
   "cell_type": "code",
   "execution_count": null,
   "id": "f029830e",
   "metadata": {},
   "outputs": [],
   "source": [
    "price = ['20180728', 100, 130, 140, 150, 160, 170]\n",
    "print(price[1:])"
   ]
  },
  {
   "cell_type": "markdown",
   "id": "37266f05",
   "metadata": {},
   "source": [
    "### 문제 6\n",
    "\n",
    "딕셔너리에서 '메로나'의 가격을 출력하고, 값을 수정하세요."
   ]
  },
  {
   "cell_type": "code",
   "execution_count": null,
   "id": "7864887e",
   "metadata": {},
   "outputs": [],
   "source": [
    "ice = {'메로나': 1000, '폴로포': 1200, '빵빠레': 1800, '죠스바': 1200, '월드콘': 1500}\n",
    "print(\"메로나 가격:\", ice['메로나'])\n",
    "ice['메로나'] = 1300\n",
    "print(\"수정된 메로나 가격:\", ice['메로나'])"
   ]
  },
  {
   "cell_type": "markdown",
   "id": "4a827fda",
   "metadata": {},
   "source": [
    "### 문제 7\n",
    "\n",
    "두 리스트를 사용해 딕셔너리를 생성하세요."
   ]
  },
  {
   "cell_type": "code",
   "execution_count": null,
   "id": "907cec13",
   "metadata": {},
   "outputs": [],
   "source": [
    "names = ['나이썬', '김자바', '김씨', '박씨샵']\n",
    "grades = ['B', 'B', 'A', 'C']\n",
    "student_dict = dict(zip(names, grades))\n",
    "print(student_dict)"
   ]
  },
  {
   "cell_type": "markdown",
   "id": "e2068e1f",
   "metadata": {},
   "source": [
    "### 문제 8\n",
    "\n",
    "딕셔너리에 새로운 아이스크림 정보를 추가하세요."
   ]
  },
  {
   "cell_type": "code",
   "execution_count": null,
   "id": "9ecf93fd",
   "metadata": {},
   "outputs": [],
   "source": [
    "ice = {\"메로나\": [300, 20], \"비비빅\": [400, 3], \"죠스바\": [250, 100]}\n",
    "ice[\"보석바\"] = [650, 10]\n",
    "print(ice)"
   ]
  },
  {
   "cell_type": "markdown",
   "id": "4251d0d6",
   "metadata": {},
   "source": [
    "### 문제 9\n",
    "\n",
    "딕셔너리에서 키만 리스트로 출력하세요."
   ]
  },
  {
   "cell_type": "code",
   "execution_count": null,
   "id": "b75414c9",
   "metadata": {},
   "outputs": [],
   "source": [
    "ice = {'메로나': 1000, '폴로포': 1200, '빵빠레': 1800, '죠스바': 1200, '월드콘': 1500}\n",
    "print(list(ice.keys()))"
   ]
  }
 ],
 "metadata": {},
 "nbformat": 4,
 "nbformat_minor": 5
}
