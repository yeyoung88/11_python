{
 "cells": [
  {
   "cell_type": "markdown",
   "id": "80444e20",
   "metadata": {},
   "source": [
    "__[문제1]__\n",
    "\n",
    "print_even 리스트 내부에 있는 값 중 짝수만 출력하세요\n",
    "\n",
    "print_even = [1, 3, 2, 10, 12, 11, 15]"
   ]
  },
  {
   "cell_type": "code",
   "execution_count": null,
   "id": "216b7c8d",
   "metadata": {},
   "outputs": [],
   "source": [
    "print_even = [1, 3, 2, 10, 12, 11, 15]\n",
    "for num in print_even:\n",
    "    if num % 2 == 0:\n",
    "        print(num)"
   ]
  },
  {
   "cell_type": "markdown",
   "id": "0dbd7046",
   "metadata": {},
   "source": [
    "__[문제2]__\n",
    "\n",
    "비어있는 오즈(oz) 클래스를 정의하세요."
   ]
  },
  {
   "cell_type": "code",
   "execution_count": null,
   "id": "a4078445",
   "metadata": {},
   "outputs": [],
   "source": [
    "class oz:\n",
    "    pass"
   ]
  },
  {
   "cell_type": "markdown",
   "id": "ca544333",
   "metadata": {},
   "source": [
    "__[문제3]__\n",
    "\n",
    "오즈 클래스의 인스턴스를 생성하세요."
   ]
  },
  {
   "cell_type": "code",
   "execution_count": null,
   "id": "5b52cbb0",
   "metadata": {},
   "outputs": [],
   "source": [
    "oz_instance = oz()"
   ]
  },
  {
   "cell_type": "markdown",
   "id": "f8b7bbd0",
   "metadata": {},
   "source": [
    "__[문제4]__\n",
    "\n",
    "오즈 클래스에 '클래스복'을 출력하는 생성자를 추가하세요."
   ]
  },
  {
   "cell_type": "code",
   "execution_count": null,
   "id": "5ef74ef4",
   "metadata": {},
   "outputs": [],
   "source": [
    "class oz:\n",
    "    def __init__(self):\n",
    "        print(\"클래스복\")\n",
    "oz_instance = oz()"
   ]
  },
  {
   "cell_type": "markdown",
   "id": "2d78f2f3",
   "metadata": {},
   "source": [
    "__[문제5]__\n",
    "\n",
    "오즈 클래스에 이름, 나이, 코딩레벨을 받는 생성자를 작성하세요."
   ]
  },
  {
   "cell_type": "code",
   "execution_count": null,
   "id": "63f11fb1",
   "metadata": {},
   "outputs": [],
   "source": [
    "class oz:\n",
    "    def __init__(self, name, age, level):\n",
    "        self.name = name\n",
    "        self.age = age\n",
    "        self.level = level\n",
    "\n",
    "coding = oz(\"김코\", 30, \"A\")"
   ]
  },
  {
   "cell_type": "markdown",
   "id": "e5caad07",
   "metadata": {},
   "source": [
    "__[문제6]__\n",
    "\n",
    "5번에서 생성한 인스턴스의 값을 출력하세요."
   ]
  },
  {
   "cell_type": "code",
   "execution_count": null,
   "id": "e42861c6",
   "metadata": {},
   "outputs": [],
   "source": [
    "print(\"이름:\", coding.name)\n",
    "print(\"나이:\", coding.age)\n",
    "print(\"코딩레벨:\", coding.level)"
   ]
  },
  {
   "cell_type": "markdown",
   "id": "50d368d9",
   "metadata": {},
   "source": [
    "__[문제7]__\n",
    "\n",
    "who() 메서드를 추가하여 정보 문자열을 반환하게 하고 실행 결과를 출력하세요."
   ]
  },
  {
   "cell_type": "code",
   "execution_count": null,
   "id": "b6f3a084",
   "metadata": {},
   "outputs": [],
   "source": [
    "class oz:\n",
    "    def __init__(self, name, age, level):\n",
    "        self.name = name\n",
    "        self.age = age\n",
    "        self.level = level\n",
    "\n",
    "    def who(self):\n",
    "        return f\"이름: {self.name}, 나이: {self.age}, 코딩레벨: {self.level}\"\n",
    "\n",
    "coding = oz(\"김코\", 30, \"A\")\n",
    "print(coding.who())"
   ]
  }
 ],
 "metadata": {},
 "nbformat": 4,
 "nbformat_minor": 5
}
